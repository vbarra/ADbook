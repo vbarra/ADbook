{
 "cells": [
  {
   "cell_type": "code",
   "execution_count": 1,
   "metadata": {},
   "outputs": [],
   "source": [
    "import numpy as np\n",
    "from scipy import stats\n",
    "import scipy\n",
    "import warnings\n",
    "warnings.simplefilter('ignore', DeprecationWarning)"
   ]
  },
  {
   "cell_type": "markdown",
   "metadata": {},
   "source": [
    "# Distributions de probabilité continues"
   ]
  },
  {
   "cell_type": "markdown",
   "metadata": {},
   "source": [
    "## Distribution uniforme"
   ]
  },
  {
   "cell_type": "markdown",
   "metadata": {},
   "source": [
    "- Distribution uniforme dans $[\\![a,b]\\!]$,  $U(a,b)$:\n",
    "\n",
    "$\n",
    "    f_X(x) = \\frac{1}{b-a} \\text{ , } a \\leq x \\leq b\n",
    "$\n",
    "\n",
    "- $\\mathbb E(x) = \\frac{a+b}{2}$\n",
    "- $\\mathbb V(x) = \\frac{(b-a)^2}{12}$"
   ]
  },
  {
   "cell_type": "code",
   "execution_count": 2,
   "metadata": {},
   "outputs": [
    {
     "name": "stdout",
     "output_type": "stream",
     "text": [
      "Espérance:  3.0\n",
      "Variance:  1.3333333333333333\n"
     ]
    }
   ],
   "source": [
    "from scipy.stats import uniform\n",
    "\n",
    "a = 1 \n",
    "b = 5 \n",
    "\n",
    "print(\"Espérance: \", (a+b)/2 )\n",
    "print(\"Variance: \", (b-a)**2/12 )"
   ]
  },
  {
   "cell_type": "markdown",
   "metadata": {},
   "source": [
    "## Distribution normale"
   ]
  },
  {
   "cell_type": "markdown",
   "metadata": {},
   "source": [
    "### Définition générale"
   ]
  },
  {
   "cell_type": "markdown",
   "metadata": {},
   "source": [
    "-  $N( \\mu, \\sigma)$:$\n",
    "    f(x; \\mu, \\sigma) = \\frac{1}{\\sqrt{2 \\pi} \\sigma } e ^{- \\frac{(x - \\mu) ^2}{2 \\sigma ^2}}$\n",
    "- $\\mu$ et la moyenne $\\sigma$ l'écart type, $\\sigma^2$ la variance"
   ]
  },
  {
   "cell_type": "code",
   "execution_count": 3,
   "metadata": {},
   "outputs": [
    {
     "name": "stdout",
     "output_type": "stream",
     "text": [
      "Moyenne :  0.0\n",
      "Variance :  1.0\n",
      "Densité de probabilité :  0.17136859204780736\n",
      "Fonction de répartition :  0.9031995154143897\n"
     ]
    }
   ],
   "source": [
    "from scipy.stats import norm\n",
    "\n",
    "x = 1.3 \n",
    "mu = 0 \n",
    "sigma = 1 \n",
    "\n",
    "print(\"Moyenne : \", norm.mean(loc = mu, scale = sigma))\n",
    "print(\"Variance : \", norm.var(loc = mu, scale = sigma)) \n",
    "print(\"Densité de probabilité : \", norm.pdf(x, loc = mu, scale = sigma))\n",
    "print(\"Fonction de répartition : \", norm.cdf(x, loc = mu, scale = sigma))\n"
   ]
  },
  {
   "cell_type": "markdown",
   "metadata": {},
   "source": [
    "### Loi normale centrée réduite"
   ]
  },
  {
   "cell_type": "markdown",
   "metadata": {},
   "source": [
    "$\\mu = 0$ et  $\\sigma = 1$\n",
    "- Densité de probabilité :\n",
    "$\n",
    "    f(x) = \\frac{1}{\\sqrt{2 \\pi}} e ^{- \\frac{x ^2}{2}}\n",
    "$\n",
    "- Fonction de répartition: $\\Phi(x)$ "
   ]
  },
  {
   "cell_type": "markdown",
   "metadata": {},
   "source": [
    "### Calcul de probabilités"
   ]
  },
  {
   "cell_type": "markdown",
   "metadata": {},
   "source": [
    "- $X \\sim N(\\mu, \\sigma^2) \\Longrightarrow Z = \\frac{X - \\mu}{\\sigma} \\sim N(0,1)$\n",
    "- Donc, $P(a \\leq X \\leq b) = P \\left( \\frac{ a - \\mu}{ \\sigma} \\leq \\frac{ X - \\mu}{ \\sigma} \\leq \\frac{ b - \\mu}{ \\sigma} \\right) = P \\left( \\frac{ a - \\mu}{ \\sigma} \\leq Z \\leq \\frac{ b - \\mu}{ \\sigma} \\right) = \\Phi \\left(\\frac{ b - \\mu}{ \\sigma} \\right) - \\Phi \\left( \\frac{a - \\mu}{ \\sigma} \\right)$\n",
    "- Propriétés :\n",
    "    - $P( \\mu -c \\sigma \\leq X \\leq \\mu + c \\sigma) = P(-c \\leq Z \\leq c)$\n",
    "    - $P(X \\leq \\mu + \\sigma z_{\\alpha}) = P(Z \\leq z_ {\\alpha}) = 1 - \\alpha$"
   ]
  },
  {
   "cell_type": "code",
   "execution_count": 4,
   "metadata": {},
   "outputs": [
    {
     "name": "stdout",
     "output_type": "stream",
     "text": [
      "Moyenne :  1320\n",
      "Variance:  225\n",
      "Densité de probabilité :  0.16401007467599366\n",
      "Fonction de répartition :  0.09121121972586788\n"
     ]
    }
   ],
   "source": [
    "from scipy.stats import norm\n",
    "\n",
    "x = 1300 \n",
    "mu = 1320 \n",
    "sigma = 15 \n",
    "\n",
    "Z = (x - mu)/sigma\n",
    "\n",
    "\n",
    "print(\"Moyenne : \", mu) \n",
    "print(\"Variance: \", sigma**2) \n",
    "print(\"Densité de probabilité : \", norm.pdf(Z))\n",
    "print(\"Fonction de répartition : \", norm.cdf(Z))"
   ]
  },
  {
   "cell_type": "markdown",
   "metadata": {},
   "source": [
    "### Distributions reliées à la loi normale"
   ]
  },
  {
   "cell_type": "markdown",
   "metadata": {},
   "source": [
    "**Loi log normale** \n",
    "- $Y = ln(X) \\sim N(\\mu, \\sigma^2)$\n",
    "- Densité de probabilité :\n",
    "$\n",
    "    f(x) = \\frac{1}{\\sqrt{2\\pi} \\sigma x} e^{ - \\frac{ (ln(x) - \\mu)^2}{2 \\sigma ^2}} \\text{ pour } x > 0\n",
    "$\n",
    "\n",
    "- Fonction de répartition : \n",
    "$    F(x) = \\Phi( \\frac{ln (x) - \\mu}{\\sigma})\n",
    "$\n",
    "- $E(X) = e^{ \\mu + \\frac{ \\sigma ^2}{2}} $\n",
    "- $ Var(X) = e^{ 2\\mu + \\sigma^2} ( e^{\\sigma^2} -1)$\n",
    "\n",
    "**Distribution du $\\chi^2$**\n",
    "- $X_i \\sim N(0,1)$ et $X = \\sum_{i =1}^ v X_i ^2$, et $X_i$ sont indépendants. Alors $X \\sim \\chi_\\nu^2$ où $\\nu$ est le nombre de degrés de libertés de la distribution\n",
    "- Densité de probabilité :\n",
    "$\n",
    "    f(x) = \\frac{ \\frac{1}{2} e ^ {-x/2} (\\frac{x}{2} ) ^ { \\frac{\\nu}{2} -1} } { \\Gamma( \\frac {\\nu}{2} )}\n",
    "$\n",
    "\n",
    "$\n",
    "    \\chi_{\\nu}^2 = \\Gamma( \\frac{ \\nu}{2} , \\frac{1}{2} )\n",
    "$ (Voir plus bas)\n",
    "\n",
    "- $E(X) = \\nu$\n",
    "- $Var(X) = 2 \\nu$\n",
    "\n",
    "**Distribution t**\n",
    "- Etant donné $ Z \\sim N(0,1)$ et $W \\sim \\chi_{\\nu} ^2$ où $Z$ et $W$ are indépendants, alors\n",
    "$\n",
    "    T_{\\nu} = \\frac{Z} {\\sqrt{ W/ \\nu }} \\sim t_{\\nu}\n",
    "$ \n",
    "est une distribution t à $\\nu$ degrés de liberté\n",
    "\n",
    "\n",
    "**Distribution F**\n",
    "- $W_i \\sim \\chi_{\\nu_i}^2$ pour $ i = 1,2$ indépendants. Alors\n",
    "$\n",
    "    \\frac{W_1/  \\nu_1}{W_2 / \\nu_2} \\sim F_{\\nu_1 , \\nu_2}\n",
    "$\n",
    "est une distribution F de degrés de liberté $\\nu_1, \\nu_2$\n",
    "- $F_{1 - \\alpha, \\nu_1, \\nu_2} = \\frac{1}{ F_{\\alpha, \\nu_1, \\nu_2}}$\n",
    "\n",
    "**Loi normale multivariée**\n",
    "- Loi bivariée $(X,Y)$ de paramètres $\\mu_1 , \\mu_2 , \\sigma_1^2 , \\sigma_2^2 , \\rho$, où $\\mu_1 = E(X)$\n",
    "- Variables : $\\mu_1 = E(X), \\mu_2 = E(Y) , \\sigma_1^2 = Var(X)  , \\sigma_2^2 = Var(Y) , \\rho = Corr(X,Y)$\n",
    "- Densité de probabilité jointe de $(X,Y)$:\n",
    "$\n",
    "    f(x,y) = \\frac{1}{2 \\pi \\sigma_1 \\sigma_2 \\sqrt{ 1- \\rho ^2} } e^ { \\left( - \\frac{1}{2 (1 - \\rho^2)} \\left[ x^2 + y^2 -2 \\rho xy \\right] \\right) } \\text{ pour } x< \\infty, y < \\infty\n",
    "$\n",
    "\n",
    "- En particulier, lorsque $\\mu_1 = \\mu_2 = 0 $ et $\\sigma_1 = \\sigma_2 = 1$\n",
    "$\n",
    "    f(x,y) = \\frac{1}{2 \\pi \\sqrt{1 - \\rho^2}} e^ { \\left( - \\frac{1}{2 (1 - \\rho^2)} \\left[ x^2 + y^2 -2 \\rho x y \\right] \\right) }\n",
    "$\n",
    "- Lorsque $\\mu_1 = \\mu_2 = 0 $ et $\\sigma_1 = \\sigma_2 = 1$ et indépendance entre  $X$ et $Y$, alors $\\rho = 0$\n",
    "$\n",
    "    f(x,y) = \\frac{1}{2 \\pi} e^ { \\left( - \\frac{1}{2} \\left[ x^2 + y^2 \\right] \\right) }\n",
    "$"
   ]
  },
  {
   "cell_type": "markdown",
   "metadata": {},
   "source": [
    "## Distribution exponentielle"
   ]
  },
  {
   "cell_type": "markdown",
   "metadata": {},
   "source": [
    "### Définition"
   ]
  },
  {
   "cell_type": "markdown",
   "metadata": {},
   "source": [
    "- $Exp( \\lambda )$, $\\lambda$ pouvant être interprété comme un taux d'occurence\n",
    "- Décrit souvent le temps avant qu'un évènement se produise\n",
    "- Densité de probabilité :\n",
    "$\n",
    "    f_X(x) = \\lambda e ^ {- \\lambda x} \\text{ , } x > 0\n",
    "$\n",
    "- Fonction de répartition:\n",
    "$\n",
    "    F_X(x) = 1 - e^{\\lambda x}\n",
    "$\n",
    "- $\\mathbb E(X) = \\frac{1}{\\lambda}$\n",
    "- $\\mathbb V(X) = \\frac{1}{\\lambda^2}$"
   ]
  },
  {
   "cell_type": "code",
   "execution_count": 5,
   "metadata": {},
   "outputs": [
    {
     "name": "stdout",
     "output_type": "stream",
     "text": [
      "Espérance :  0.5\n",
      "Variance :  0.25\n",
      "Densité de probabilité :  0.2706705664732254\n",
      "Fonction de répartition :  0.8646647167633873\n"
     ]
    }
   ],
   "source": [
    "from scipy.stats import expon\n",
    "\n",
    "Lambda = 0.5 \n",
    "x = 1 \n",
    "\n",
    "print(\"Espérance : \", expon.mean(scale = Lambda))\n",
    "print(\"Variance : \", expon.var(scale = Lambda))\n",
    "print(\"Densité de probabilité : \", expon.pdf(x, scale = Lambda))\n",
    "print(\"Fonction de répartition : \", expon.cdf(x, scale = Lambda))"
   ]
  },
  {
   "cell_type": "markdown",
   "metadata": {},
   "source": [
    "### La distribution exponentielle n'a pas de mémoire ..."
   ]
  },
  {
   "cell_type": "markdown",
   "metadata": {},
   "source": [
    "- Pour tout $x,y>0, \n",
    "    P(X \\geq x + y \\mid X \\geq x) = P( X \\geq y)$\n",
    "- ce qui est équivalent à\n",
    "$\n",
    "    P(X \\geq x + y, X \\geq x) = P( X \\geq x) P( X \\geq y)\n",
    "$\n",
    "\n",
    "$\\Rightarrow$ le futur ne dépend pas du passé"
   ]
  },
  {
   "cell_type": "markdown",
   "metadata": {},
   "source": [
    "**Proposition** : si $ X_1, \\cdots, X_n $ sont des variables aléatoires indépendantes de paramètres respectifs $\\lambda_1 , \\cdots, \\lambda_n$, alors $min \\{ X_1, \\cdots , X_n \\} $ suit une loi exponentielle de paramètre  $\\sum_{i = 1}^n \\lambda_i$"
   ]
  },
  {
   "cell_type": "markdown",
   "metadata": {},
   "source": [
    "### Processus de Poisson"
   ]
  },
  {
   "cell_type": "markdown",
   "metadata": {},
   "source": [
    "- Un processus stochastique est une suite d'évènements aléatoires\n",
    "- Processus de Poisson de paramètre $\\lambda$ = processus stochastique où le temps (ou l'espace) entre deux occurrences d'évènements  suit une loi exponentielle de paramètre $\\lambda$\n",
    "- Si $X$ est le nombre d'évènements se produisant dans un intervalle de temps (ou d'espace) de longueur $t$ alors \n",
    "$\n",
    "    X \\sim Poisson(\\lambda t)\n",
    "$\n"
   ]
  },
  {
   "cell_type": "markdown",
   "metadata": {},
   "source": [
    "## Distribution Gamma"
   ]
  },
  {
   "cell_type": "markdown",
   "metadata": {},
   "source": [
    "- Utile en fiabilité\n",
    "- Fonction Gamma :\n",
    "\n",
    "$\n",
    "    \\Gamma(k) = \\int_0^{\\infty} x^{k-1}e^{-x}dx \\text{ for } k>0\n",
    "$"
   ]
  },
  {
   "cell_type": "code",
   "execution_count": 6,
   "metadata": {},
   "outputs": [
    {
     "name": "stdout",
     "output_type": "stream",
     "text": [
      "Fonction Gamma:  6.0\n"
     ]
    }
   ],
   "source": [
    "from scipy.special import gamma as gamma_function\n",
    "k = 4\n",
    "print(\"Fonction Gamma: \", gamma_function(k))"
   ]
  },
  {
   "cell_type": "markdown",
   "metadata": {},
   "source": [
    "- Distribution Gamma $Gam(k, \\lambda)$ où $k>0$ et $\\lambda >0$\n",
    "\n",
    "$\n",
    "    f(x; k, \\lambda) = \\frac{\\lambda ^k}{\\Gamma (k)} x ^ {k-1} e ^ {- \\lambda x} \\text{ , } x > 0\n",
    "$\n",
    "\n",
    "- $ \\mathbb E(X) = \\frac{k}{ \\lambda }$\n",
    "- $ \\mathbb V(X) = \\frac{k}{ \\lambda ^2}$"
   ]
  },
  {
   "cell_type": "code",
   "execution_count": 7,
   "metadata": {},
   "outputs": [
    {
     "name": "stdout",
     "output_type": "stream",
     "text": [
      "Moyenne :  1.6666666666666667\n",
      "Variance :  0.925925925925926\n",
      "Densité de probabilité :  0.11853315025792688\n",
      "Fonction de répartition :  0.9052421318239862\n"
     ]
    }
   ],
   "source": [
    "from scipy.stats import gamma\n",
    "\n",
    "x = 3 # nombre d'évènements\n",
    "k = 3 # paramètre de la fonction gamma\n",
    "Lambda = 1.8 \n",
    "\n",
    "print(\"Moyenne : \", gamma.mean(k,  scale = 1/Lambda))\n",
    "print(\"Variance : \", gamma.var(k, scale = 1/Lambda))\n",
    "print(\"Densité de probabilité : \", gamma.pdf(x, k,  scale = 1/Lambda))\n",
    "print(\"Fonction de répartition : \", gamma.cdf(x, k, scale = 1/Lambda))"
   ]
  },
  {
   "cell_type": "markdown",
   "metadata": {},
   "source": [
    "### Propriétés de la fonction Gamma"
   ]
  },
  {
   "cell_type": "markdown",
   "metadata": {},
   "source": [
    "- $\\Gamma (\\alpha + 1) = \\alpha \\Gamma(\\alpha)$\n",
    "- $\\Gamma (1) = 1$\n",
    "- $\\Gamma (1/2) = \\sqrt{\\pi}$\n",
    "- $\\Gamma (n) = (n-1) !$"
   ]
  },
  {
   "cell_type": "markdown",
   "metadata": {},
   "source": [
    "### Propriétés de la distribution Gamma"
   ]
  },
  {
   "cell_type": "markdown",
   "metadata": {},
   "source": [
    "- Si $X_1, \\cdots, X_n$ sont des variables aléatoires indépendantes Gamma de paramètres respectifs $(k_i, \\lambda)$, alors\n",
    "\n",
    "$\n",
    "    \\sum_{i=1}^n X_i \\sim Gam(\\sum_{i=1}^n k_i , \\lambda)\n",
    "$"
   ]
  },
  {
   "cell_type": "markdown",
   "metadata": {},
   "source": [
    "## Distribution Beta"
   ]
  },
  {
   "cell_type": "markdown",
   "metadata": {},
   "source": [
    "- Modélisation des proportions\n",
    "\n",
    "$\n",
    "    f(x; \\alpha, \\beta) = \\frac{\\Gamma( \\alpha + \\beta)}{ \\Gamma(\\alpha) \\Gamma(\\beta)} x^{\\alpha - 1} (1 - x) ^{\\beta - 1} \\text{ , } 0 < x < 1\n",
    "$\n",
    "\n",
    "- $\\mathbb E(X) = \\frac{ \\alpha}{ \\alpha + \\beta}$\n",
    "- $\\mathbb V(X) = \\frac{ \\alpha \\beta}{ (\\alpha + \\beta) ^2 ( \\alpha + \\beta + 1)}$\n"
   ]
  },
  {
   "cell_type": "code",
   "execution_count": 8,
   "metadata": {},
   "outputs": [
    {
     "name": "stdout",
     "output_type": "stream",
     "text": [
      "Moyenne :  0.7142857142857143\n",
      "Variance:  0.013605442176870748\n",
      "Densité de probabilité :  3.1161055325400007\n",
      "Fonction de répartition :  0.4206056457609999\n"
     ]
    }
   ],
   "source": [
    "from scipy.stats import beta\n",
    "\n",
    "x = 0.7 \n",
    "a = 10 \n",
    "b = 4 \n",
    "\n",
    "print(\"Moyenne : \", beta.mean(a, b)) # not sure about this\n",
    "print(\"Variance: \", beta.var(a, b)) # not sure about this\n",
    "print(\"Densité de probabilité : \", beta.pdf(x, a, b))\n",
    "print(\"Fonction de répartition : \", beta.cdf(x, a, b ))"
   ]
  }
 ],
 "metadata": {
  "kernelspec": {
   "display_name": "Python 3 (ipykernel)",
   "language": "python",
   "name": "python3"
  },
  "language_info": {
   "codemirror_mode": {
    "name": "ipython",
    "version": 3
   },
   "file_extension": ".py",
   "mimetype": "text/x-python",
   "name": "python",
   "nbconvert_exporter": "python",
   "pygments_lexer": "ipython3",
   "version": "3.9.13"
  }
 },
 "nbformat": 4,
 "nbformat_minor": 4
}