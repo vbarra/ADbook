{
 "cells": [
  {
   "cell_type": "code",
   "execution_count": 1,
   "metadata": {},
   "outputs": [],
   "source": [
    "import numpy as np\n",
    "from scipy import stats\n",
    "import scipy\n",
    "import warnings\n",
    "warnings.simplefilter('ignore', DeprecationWarning)"
   ]
  },
  {
   "cell_type": "markdown",
   "metadata": {},
   "source": [
    "# Distributions de probabilité continues"
   ]
  },
  {
   "cell_type": "markdown",
   "metadata": {},
   "source": [
    "## Distribution uniforme"
   ]
  },
  {
   "cell_type": "markdown",
   "metadata": {},
   "source": [
    "- Distribution uniforme dans $[\\![a,b]\\!]$,  $U(a,b)$:\n",
    "\n",
    "$\n",
    "    f_X(x) = \\frac{1}{b-a} \\text{ , } a \\leq x \\leq b\n",
    "$\n",
    "\n",
    "- $\\mathbb E(x) = \\frac{a+b}{2}$\n",
    "- $\\mathbb V(x) = \\frac{(b-a)^2}{12}$"
   ]
  },
  {
   "cell_type": "code",
   "execution_count": 2,
   "metadata": {},
   "outputs": [
    {
     "name": "stdout",
     "output_type": "stream",
     "text": [
      "Espérance:  3.0\n",
      "Variance:  1.3333333333333333\n"
     ]
    }
   ],
   "source": [
    "from scipy.stats import uniform\n",
    "\n",
    "a = 1 \n",
    "b = 5 \n",
    "\n",
    "print(\"Espérance: \", (a+b)/2 )\n",
    "print(\"Variance: \", (b-a)**2/12 )"
   ]
  },
  {
   "cell_type": "markdown",
   "metadata": {},
   "source": [
    "## Distribution exponentielle"
   ]
  },
  {
   "cell_type": "markdown",
   "metadata": {},
   "source": [
    "### Définition"
   ]
  },
  {
   "cell_type": "markdown",
   "metadata": {},
   "source": [
    "- $Exp( \\lambda )$, $\\lambda$ pouvant être interprété comme un taux d'occurence\n",
    "- Décrit souvent le temps avant qu'un évènement se produise\n",
    "- Densité de probabilité :\n",
    "$\n",
    "    f_X(x) = \\lambda e ^ {- \\lambda x} \\text{ , } x > 0\n",
    "$\n",
    "- Fonction de répartition:\n",
    "$\n",
    "    F_X(x) = 1 - e^{\\lambda x}\n",
    "$\n",
    "- $\\mathbb E(X) = \\frac{1}{\\lambda}$\n",
    "- $\\mathbb V(X) = \\frac{1}{\\lambda^2}$"
   ]
  },
  {
   "cell_type": "code",
   "execution_count": 3,
   "metadata": {},
   "outputs": [
    {
     "name": "stdout",
     "output_type": "stream",
     "text": [
      "Espérance :  0.5\n",
      "Variance :  0.25\n",
      "Densité de probabilité :  0.2706705664732254\n",
      "Fonction de répartition :  0.8646647167633873\n"
     ]
    }
   ],
   "source": [
    "from scipy.stats import expon\n",
    "\n",
    "Lambda = 0.5 \n",
    "x = 1 \n",
    "\n",
    "print(\"Espérance : \", expon.mean(scale = Lambda))\n",
    "print(\"Variance : \", expon.var(scale = Lambda))\n",
    "print(\"Densité de probabilité : \", expon.pdf(x, scale = Lambda))\n",
    "print(\"Fonction de répartition : \", expon.cdf(x, scale = Lambda))"
   ]
  },
  {
   "cell_type": "markdown",
   "metadata": {},
   "source": [
    "### La distribution exponentielle n'a pas de mémoire ..."
   ]
  },
  {
   "cell_type": "markdown",
   "metadata": {},
   "source": [
    "- Pour tout $x,y>0, \n",
    "    P(X \\geq x + y \\mid X \\geq x) = P( X \\geq y)$\n",
    "- ce qui est équivalent à\n",
    "$\n",
    "    P(X \\geq x + y, X \\geq x) = P( X \\geq x) P( X \\geq y)\n",
    "$\n",
    "\n",
    "$\\Rightarrow$ le futur ne dépend pas du passé"
   ]
  },
  {
   "cell_type": "markdown",
   "metadata": {},
   "source": [
    "**Proposition** : si $ X_1, \\cdots, X_n $ sont des variables aléatoires indépendantes de paramètres respectifs $\\lambda_1 , \\cdots, \\lambda_n$, alors $min \\{ X_1, \\cdots , X_n \\} $ suit une loi exponentielle de paramètre  $\\sum_{i = 1}^n \\lambda_i$"
   ]
  },
  {
   "cell_type": "markdown",
   "metadata": {},
   "source": [
    "### Processus de Poisson"
   ]
  },
  {
   "cell_type": "markdown",
   "metadata": {},
   "source": [
    "- Un processus stochastique est une suite d'évènements aléatoires\n",
    "- Processus de Poisson de paramètre $\\lambda$ = processus stochastique où le temps (ou l'espace) entre deux occurrences d'évènements  suit une loi exponentielle de paramètre $\\lambda$\n",
    "- Si $X$ est le nombre d'évènements se produisant dans un intervalle de temps (ou d'espace) de longueur $t$ alors \n",
    "$\n",
    "    X \\sim Poisson(\\lambda t)\n",
    "$\n"
   ]
  },
  {
   "cell_type": "markdown",
   "metadata": {},
   "source": [
    "## Distribution Gamma"
   ]
  },
  {
   "cell_type": "markdown",
   "metadata": {},
   "source": [
    "- Utile en fiabilité\n",
    "- Fonction Gamma :\n",
    "\n",
    "$\n",
    "    \\Gamma(k) = \\int_0^{\\infty} x^{k-1}e^{-x}dx \\text{ for } k>0\n",
    "$"
   ]
  },
  {
   "cell_type": "code",
   "execution_count": 4,
   "metadata": {},
   "outputs": [
    {
     "name": "stdout",
     "output_type": "stream",
     "text": [
      "Fonction Gamma:  6.0\n"
     ]
    }
   ],
   "source": [
    "from scipy.special import gamma as gamma_function\n",
    "k = 4\n",
    "print(\"Fonction Gamma: \", gamma_function(k))"
   ]
  },
  {
   "cell_type": "markdown",
   "metadata": {},
   "source": [
    "- Distribution Gamma $Gam(k, \\lambda)$ où $k>0$ et $\\lambda >0$\n",
    "\n",
    "$\n",
    "    f(x; k, \\lambda) = \\frac{\\lambda ^k}{\\Gamma (k)} x ^ {k-1} e ^ {- \\lambda x} \\text{ , } x > 0\n",
    "$\n",
    "\n",
    "- $ \\mathbb E(X) = \\frac{k}{ \\lambda }$\n",
    "- $ \\mathbb V(X) = \\frac{k}{ \\lambda ^2}$"
   ]
  },
  {
   "cell_type": "code",
   "execution_count": 5,
   "metadata": {},
   "outputs": [
    {
     "name": "stdout",
     "output_type": "stream",
     "text": [
      "Moyenne :  1.6666666666666667\n",
      "Variance :  0.925925925925926\n",
      "Densité de probabilité :  0.11853315025792688\n",
      "Fonction de répartition :  0.9052421318239862\n"
     ]
    }
   ],
   "source": [
    "from scipy.stats import gamma\n",
    "\n",
    "x = 3 # nombre d'évènements\n",
    "k = 3 # paramètre de la fonction gamma\n",
    "Lambda = 1.8 \n",
    "\n",
    "print(\"Moyenne : \", gamma.mean(k,  scale = 1/Lambda))\n",
    "print(\"Variance : \", gamma.var(k, scale = 1/Lambda))\n",
    "print(\"Densité de probabilité : \", gamma.pdf(x, k,  scale = 1/Lambda))\n",
    "print(\"Fonction de répartition : \", gamma.cdf(x, k, scale = 1/Lambda))"
   ]
  },
  {
   "cell_type": "markdown",
   "metadata": {},
   "source": [
    "### Propriétés de la fonction Gamma"
   ]
  },
  {
   "cell_type": "markdown",
   "metadata": {},
   "source": [
    "- $\\Gamma (\\alpha + 1) = \\alpha \\Gamma(\\alpha)$\n",
    "- $\\Gamma (1) = 1$\n",
    "- $\\Gamma (1/2) = \\sqrt{\\pi}$\n",
    "- $\\Gamma (n) = (n-1) !$"
   ]
  },
  {
   "cell_type": "markdown",
   "metadata": {},
   "source": [
    "### Propriétés de la distribution Gamma"
   ]
  },
  {
   "cell_type": "markdown",
   "metadata": {},
   "source": [
    "- Si $X_1, \\cdots, X_n$ sont des variables aléatoires indépendantes Gamma de paramètres respectifs $(k_i, \\lambda)$, alors\n",
    "\n",
    "$\n",
    "    \\sum_{i=1}^n X_i \\sim Gam(\\sum_{i=1}^n k_i , \\lambda)\n",
    "$"
   ]
  },
  {
   "cell_type": "markdown",
   "metadata": {},
   "source": [
    "## Distribution Beta"
   ]
  },
  {
   "cell_type": "markdown",
   "metadata": {},
   "source": [
    "- Modélisation des proportions\n",
    "\n",
    "$\n",
    "    f(x; \\alpha, \\beta) = \\frac{\\Gamma( \\alpha + \\beta)}{ \\Gamma(\\alpha) \\Gamma(\\beta)} x^{\\alpha - 1} (1 - x) ^{\\beta - 1} \\text{ , } 0 < x < 1\n",
    "$\n",
    "\n",
    "- $\\mathbb E(X) = \\frac{ \\alpha}{ \\alpha + \\beta}$\n",
    "- $\\mathbb V(X) = \\frac{ \\alpha \\beta}{ (\\alpha + \\beta) ^2 ( \\alpha + \\beta + 1)}$\n"
   ]
  },
  {
   "cell_type": "code",
   "execution_count": 6,
   "metadata": {},
   "outputs": [
    {
     "name": "stdout",
     "output_type": "stream",
     "text": [
      "Moyenne :  0.7142857142857143\n",
      "Variance:  0.013605442176870748\n",
      "Densité de probabilité :  3.1161055325400007\n",
      "Fonction de répartition :  0.4206056457609999\n"
     ]
    }
   ],
   "source": [
    "from scipy.stats import beta\n",
    "\n",
    "x = 0.7 \n",
    "a = 10 \n",
    "b = 4 \n",
    "\n",
    "print(\"Moyenne : \", beta.mean(a, b)) # not sure about this\n",
    "print(\"Variance: \", beta.var(a, b)) # not sure about this\n",
    "print(\"Densité de probabilité : \", beta.pdf(x, a, b))\n",
    "print(\"Fonction de répartition : \", beta.cdf(x, a, b ))"
   ]
  }
 ],
 "metadata": {
  "kernelspec": {
   "display_name": "Python 3",
   "language": "python",
   "name": "python3"
  },
  "language_info": {
   "codemirror_mode": {
    "name": "ipython",
    "version": 3
   },
   "file_extension": ".py",
   "mimetype": "text/x-python",
   "name": "python",
   "nbconvert_exporter": "python",
   "pygments_lexer": "ipython3",
   "version": "3.9.13"
  }
 },
 "nbformat": 4,
 "nbformat_minor": 4
}