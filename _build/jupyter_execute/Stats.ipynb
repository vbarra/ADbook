{
 "cells": [
  {
   "cell_type": "markdown",
   "id": "084b39b5",
   "metadata": {},
   "source": [
    "# Introduction aux statistiques\n",
    "\n",
    "## Vocabulaire et définition\n",
    "On définit ici de manière informelle les termes utilisés dans la suite :\n",
    "- **Population** : ensemble de cardinalité finie, notée $N$, ou infinie\n",
    "- **Echantillon** : sous-ensemble de la population, de cardinalité $n$\n",
    "- **Individu** : sous-ensemble de la population ou de l'échantillon, de cardinalité 1\n",
    "- **Caractère** : nature de la caractéristique à laquelle on s'intéresse statistiquement. Il peut être **qualitatif** (nominal ou ordinal) ou **quantitatif**(discret ou continu)\n",
    "\n",
    "## Démarche générale\n",
    "\n",
    "## Probabilités et statistiques\n",
    "La question qui se pose est la suivante : comment définir ou estimer la valeur de probabilité associée àun  évènement ?\n",
    "Plusieurs points de vue ont été proposés et adoptés que synthétisons très brièvement.\n",
    "\n",
    "### Approche fréquentiste\n",
    "Ce point de vue historique, souvent présenté comme le plus “naturel” ou “objectif”, consiste à définir une probabilité comme la limite de la fréquence empirique lorsque la taille de l'echantillon devient infinie"
   ]
  }
 ],
 "metadata": {
  "jupytext": {
   "formats": "md:myst",
   "text_representation": {
    "extension": ".md",
    "format_name": "myst"
   }
  },
  "kernelspec": {
   "display_name": "Python 3",
   "language": "python",
   "name": "python3"
  },
  "language_info": {
   "codemirror_mode": {
    "name": "ipython",
    "version": 3
   },
   "file_extension": ".py",
   "mimetype": "text/x-python",
   "name": "python",
   "nbconvert_exporter": "python",
   "pygments_lexer": "ipython3",
   "version": "3.9.13"
  },
  "source_map": [
   11
  ]
 },
 "nbformat": 4,
 "nbformat_minor": 5
}