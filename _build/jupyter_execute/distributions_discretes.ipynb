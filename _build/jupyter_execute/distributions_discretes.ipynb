{
 "cells": [
  {
   "cell_type": "code",
   "execution_count": 1,
   "metadata": {},
   "outputs": [],
   "source": [
    "import numpy as np\n",
    "from scipy import stats\n",
    "import scipy\n",
    "import warnings\n",
    "warnings.simplefilter('ignore', DeprecationWarning)"
   ]
  },
  {
   "cell_type": "markdown",
   "metadata": {},
   "source": [
    "# Distributions de probabilité discrètes"
   ]
  },
  {
   "cell_type": "markdown",
   "metadata": {},
   "source": [
    "## Distribution Binomiale"
   ]
  },
  {
   "cell_type": "markdown",
   "metadata": {},
   "source": [
    "### Variables aléatoires de Bernoulli"
   ]
  },
  {
   "cell_type": "markdown",
   "metadata": {},
   "source": [
    "- Expériences à deux issues,  0 ou 1\n",
    "- Variable aléatoire de Bernoulli de paramètre  $p$, $0 \\leq p \\leq 1$, $p$ probabilité que l'issue soit 1\n",
    "- The Bernoulli distribution $Ber(p)$ is:\n",
    "\\begin{equation}\n",
    "    f(x;p) = p^x(1-p)^{1-x}, \\text{   } x= 0,1\n",
    "\\end{equation}\n",
    "- $\\mathbb E(X) = p$\n",
    "- $\\mathbb V(X) = p(1-p)$"
   ]
  },
  {
   "cell_type": "code",
   "execution_count": 2,
   "metadata": {},
   "outputs": [
    {
     "name": "stdout",
     "output_type": "stream",
     "text": [
      "Moyenne :  0.3\n",
      "Variance:  0.21\n"
     ]
    }
   ],
   "source": [
    "from scipy.stats import bernoulli\n",
    "n = 10 #nombre de répétitions de l'expérience\n",
    "p = 0.3 # probabilité de succès\n",
    "print(\"Moyenne : \", bernoulli.mean(p))\n",
    "print(\"Variance: \", bernoulli.var(p))"
   ]
  },
  {
   "cell_type": "markdown",
   "metadata": {},
   "source": [
    "## Distribution binomiale"
   ]
  },
  {
   "cell_type": "markdown",
   "metadata": {},
   "source": [
    "- Expérience : $n$ expériences indépendantes de Bernoulli $X_1, \\cdots, X_n$ de même paramètre $p$\n",
    "- Le nombre total de succès $X = \\displaystyle\\sum_{i=1}^m X_i$ est une variable aléatoire de distribution (binomiale)\n",
    "\\begin{equation}\n",
    "    X \\sim B(n,p)\n",
    "\\end{equation}\n",
    "de paramètres $n$ et $p$"
   ]
  },
  {
   "cell_type": "markdown",
   "metadata": {},
   "source": [
    "- La densité de probabilité $B(n, p)$ est :\n",
    "\n",
    "\\begin{equation}\n",
    "    f(x;n,p) = \\binom{n}{x}p^x(1-p)^{n-x}, \\text{   } x= 0,1, \\cdots, n\n",
    "\\end{equation}\n",
    "\n",
    "- $\\mathbb E(X) = np$\n",
    "- $\\mathbb V(X) = np(1-p)$"
   ]
  },
  {
   "cell_type": "code",
   "execution_count": 3,
   "metadata": {},
   "outputs": [
    {
     "name": "stdout",
     "output_type": "stream",
     "text": [
      "Moyenne :  2.0\n",
      "Variance:  1.6\n",
      "Densité de probabilité :  0.000786432\n",
      "Fonction de répartition :  0.9999220736\n"
     ]
    }
   ],
   "source": [
    "from scipy.stats import binom\n",
    "\n",
    "n = 10 \n",
    "x = 7 \n",
    "p = 0.2 \n",
    "\n",
    "print(\"Moyenne : \", binom.mean(n, p))\n",
    "print(\"Variance: \", binom.var(n, p))\n",
    "print(\"Densité de probabilité : \", binom.pmf(x, n, p))\n",
    "print(\"Fonction de répartition : \", binom.cdf(x,n,p))"
   ]
  },
  {
   "cell_type": "markdown",
   "metadata": {},
   "source": [
    "### Proportion de succès"
   ]
  },
  {
   "cell_type": "markdown",
   "metadata": {},
   "source": [
    "- Si $X \\sim B(n,p)$. alors, si $Y = \\frac{X}{n}$\n",
    "- $\\mathbb E(Y) = p$\n",
    "- $\\mathbb V(Y) = \\frac{p(1-p)}{n}$"
   ]
  },
  {
   "cell_type": "markdown",
   "metadata": {},
   "source": [
    "## Distributions Géométrique et binomiale négative"
   ]
  },
  {
   "cell_type": "markdown",
   "metadata": {},
   "source": [
    "### Distribution géométrique\n",
    "\n",
    "- Le nombre d'essais  $X$ jusqu'au premier succès (inclus) dans une suite d'expériences indépendantes de Bernoulli de même paramètre $p$ suit une distribution géométrique de paramètre $p$\n",
    "- Densité de probabilité :\n",
    "\\begin{equation}\n",
    "    P(X = x) = (1 - p)^{x-1}p, \\text{   } x=1,2, \\cdots.\n",
    "\\end{equation}\n",
    "- Fonction de répartition :\n",
    "\\begin{equation}\n",
    "    P(X \\leq x) = 1 - (1-p)^x\n",
    "\\end{equation}\n",
    "- $\\mathbb E(X) = \\frac{1}{p}$\n",
    "- $\\mathbb V(X) = \\frac{1-p}{p^2}$"
   ]
  },
  {
   "cell_type": "code",
   "execution_count": 4,
   "metadata": {},
   "outputs": [
    {
     "name": "stdout",
     "output_type": "stream",
     "text": [
      "Moyenne :  4.3478260869565215\n",
      "Variance:  14.555765595463136\n",
      "Densité de probabilité :  0.08085199430000001\n",
      "Fonction de répartition :  0.7293215842999999\n"
     ]
    }
   ],
   "source": [
    "from scipy.stats import geom\n",
    "x = 5 \n",
    "p = 0.23 \n",
    "print(\"Moyenne : \", geom.mean(p))\n",
    "print(\"Variance: \", geom.var(p))\n",
    "print(\"Densité de probabilité : \", geom.pmf(x, p))\n",
    "print(\"Fonction de répartition : \", geom.cdf(x, p))"
   ]
  },
  {
   "cell_type": "markdown",
   "metadata": {},
   "source": [
    "### Distribution binomiale négative"
   ]
  },
  {
   "cell_type": "markdown",
   "metadata": {},
   "source": [
    "- Le nombre d'essais  $X$ jusqu'au $r^e$ succès (inclus) dans une suite d'expériences indépendantes de Bernoulli de même paramètre $p$ suit une distribution binomiale négative de paramètre $p$\n",
    "- Densité de probabilité :\n",
    "\\begin{equation}\n",
    "    P(X = x) =  \\binom{x-1}{r-1} (1-p)^{x-r}p^r \\text{,  } x=r,r+1, \\cdots.\n",
    "\\end{equation}\n",
    "- $\\mathbb E(X) = \\frac{r}{p}$\n",
    "- $\\mathbb V(X) = \\frac{r(1-p)}{p^2}$"
   ]
  },
  {
   "cell_type": "code",
   "execution_count": 5,
   "metadata": {},
   "outputs": [
    {
     "name": "stdout",
     "output_type": "stream",
     "text": [
      "Moyenne:  3.272727272727272\n",
      "Variance:  5.950413223140495\n",
      "Densité de probabilité :  0.16677014062500006\n",
      "Fonction de répartition :  0.6082877968750001\n"
     ]
    }
   ],
   "source": [
    "from scipy.stats import nbinom\n",
    "x = 7 \n",
    "r = 4 \n",
    "p = 0.55 \n",
    "\n",
    "print(\"Moyenne: \", nbinom.mean(r, p))\n",
    "print(\"Variance: \", nbinom.var(r, p))\n",
    "print(\"Densité de probabilité : \", nbinom.pmf(x-r, r, p)) # the distribution takes x-r, which is the number of failures\n",
    "print(\"Fonction de répartition : \", nbinom.cdf(x-r, r, p))"
   ]
  },
  {
   "cell_type": "markdown",
   "metadata": {},
   "source": [
    "##  Distribution hypergéométrique"
   ]
  },
  {
   "cell_type": "markdown",
   "metadata": {},
   "source": [
    "- Collection de $N$ objets dont $r$ sont d'un certain type\n",
    "- Probabilité qu'un objet soit d'un type donné: $p = \\frac{r}{N}$\n",
    "- Si $n$ objets sont choisis au hasard sans remise, la distribution de $X \\sim B(n,p)$"
   ]
  },
  {
   "cell_type": "markdown",
   "metadata": {},
   "source": [
    "- Densité de probabilité : \n",
    "\\begin{equation}\n",
    "    f(x; N, n, r) = \\frac{ \\binom{r}{x} \\binom{N-r}{n-x} }{ \\binom{N}{n} },\n",
    "\\end{equation}\n",
    "\\begin{equation}\n",
    "    max \\{ 0, n-(N-r) \\} \\leq x \\leq min \\{ n, r \\}\n",
    "\\end{equation}\n",
    "- $\\mathbb E(X) = n\\frac{r}{N}$\n",
    "- $\\mathbb V(X) = \\frac{N-n}{N-1} n \\frac{r}{N}(1- \\frac{r}{N})$"
   ]
  },
  {
   "cell_type": "markdown",
   "metadata": {},
   "source": [
    "- Comparaison avec $B(n,p)$ lorsque $ p = \\frac{r}{N}$\n",
    "    - $\\mathbb E_B(X) = \\mathbb E_H(X) = np$\n",
    "    - $\\sigma_B ^2 (X) = npq \\geq \\sigma_H ^2(X) = \\frac{N-n}{N-1} npq$"
   ]
  },
  {
   "cell_type": "code",
   "execution_count": 6,
   "metadata": {},
   "outputs": [
    {
     "name": "stdout",
     "output_type": "stream",
     "text": [
      "Moyenne :  3.0\n",
      "Variance:  0.8571428571428571\n",
      "Densité de probabilité :  0.23976023976023975\n",
      "Fonction de répartition :  0.28671328671328666\n"
     ]
    }
   ],
   "source": [
    "from scipy.stats import hypergeom\n",
    "\n",
    "x = 2 \n",
    "N = 15 \n",
    "r = 9 \n",
    "n = 5 \n",
    "\n",
    "print(\"Moyenne : \", hypergeom.mean(N, r, n))\n",
    "print(\"Variance: \", hypergeom.var(N, r, n))\n",
    "print(\"Densité de probabilité : \", hypergeom.pmf(x, N, r, n))\n",
    "print(\"Fonction de répartition : \", hypergeom.cdf(x, N, r, n))"
   ]
  },
  {
   "cell_type": "markdown",
   "metadata": {},
   "source": [
    "##  Distribution de Poisson"
   ]
  },
  {
   "cell_type": "markdown",
   "metadata": {},
   "source": [
    "- Nombre d'évènements se produisant dans un certain intervalle (temps, espace)\n",
    "- Une variable aléatoire $X$ suit une distribution de Poisson de paramère $\\lambda$ s'écrit :\n",
    "\\begin{equation}\n",
    "    X \\sim P(\\lambda)\n",
    "\\end{equation}\n",
    "- Densité de probabilité : \n",
    "\\begin{equation}\n",
    "    P(X = x) = \\frac{ e^{- \\lambda} \\lambda ^ {x}} {x!} \\text{   } x=0,1,2, \\cdots.\n",
    "\\end{equation}\n",
    "- $\\mathbb E (X) = \\mathbb V (X) = \\lambda$"
   ]
  },
  {
   "cell_type": "code",
   "execution_count": 7,
   "metadata": {},
   "outputs": [
    {
     "name": "stdout",
     "output_type": "stream",
     "text": [
      "Moyenne :  0.6666666666666666\n",
      "Variance:  0.6666666666666666\n",
      "Densité de probabilité :  0.3422780793550613\n",
      "Fonction de répartition :  0.8556951983876534\n"
     ]
    }
   ],
   "source": [
    "from scipy.stats import poisson\n",
    "\n",
    "x = 1 \n",
    "Lambda = 2/3 \n",
    "\n",
    "print(\"Moyenne : \", poisson.mean(Lambda))\n",
    "print(\"Variance: \", poisson.var(Lambda))\n",
    "print(\"Densité de probabilité : \", poisson.pmf(x, Lambda))\n",
    "print(\"Fonction de répartition : \", poisson.cdf(x, Lambda))"
   ]
  },
  {
   "cell_type": "markdown",
   "metadata": {},
   "source": [
    "## Distribution multinomiale"
   ]
  },
  {
   "cell_type": "markdown",
   "metadata": {},
   "source": [
    "- Suite de $n$ essais indépendants où chaque essai a  $k$ issues possibles de probabilités constantes $p_1, p_2, \\cdots , p_k$ avec $p_1 + p_2 + \\cdots + p_k = 1$\n",
    "- Les variables aléatoires $X_1, X_2, \\cdots , X_k$ avec $\\displaystyle\\sum_{i=1}^k X_i = n$ qui comptent le nombre d'occurrences des $k$ issues respectives ont une distribution multinomiale."
   ]
  },
  {
   "cell_type": "markdown",
   "metadata": {},
   "source": [
    "- Densité de probabilité jointe de  $X_1, X_2, \\cdots , X_k$ :\n",
    "\\begin{equation}\n",
    "    f(x_1, x_2, \\cdots, x_k; p_1, \\cdots , p_k , n) = \\binom{n}{x_1,x_2,\\cdots, x_k} p_1^{x_1} p_2^{x_2} \\cdots p_k^{x_k}\n",
    "\\end{equation}\n",
    "avec $\\displaystyle\\sum_{i=1} ^ k x_i = n$ et $\\displaystyle\\sum_{i=1}^k p_i = 1$\n",
    "- ce qui s'écrit encore :\n",
    "\\begin{equation}\n",
    "    (X_1, \\cdots , X_k) \\sim M_k(p_1, \\cdots, p_k, n)\n",
    "\\end{equation}"
   ]
  },
  {
   "cell_type": "markdown",
   "metadata": {},
   "source": [
    "- $\\mathbb E(X_i) = np_i$\n",
    "- $\\mathbb V(X_i) = np_i(1-p_i)$"
   ]
  },
  {
   "cell_type": "code",
   "execution_count": 8,
   "metadata": {},
   "outputs": [
    {
     "name": "stdout",
     "output_type": "stream",
     "text": [
      "Densité de probabilité :  0.006518417007220723\n"
     ]
    }
   ],
   "source": [
    "from scipy.stats import multinomial\n",
    "\n",
    "x = [3, 3, 4, 5] \n",
    "n = 15 \n",
    "p = [1/6, 1/6, 1/6 , 3/6] \n",
    "\n",
    "print(\"Densité de probabilité : \", multinomial.pmf(x, n=n, p=p))"
   ]
  }
 ],
 "metadata": {
  "kernelspec": {
   "display_name": "Python 3",
   "language": "python",
   "name": "python3"
  },
  "language_info": {
   "codemirror_mode": {
    "name": "ipython",
    "version": 3
   },
   "file_extension": ".py",
   "mimetype": "text/x-python",
   "name": "python",
   "nbconvert_exporter": "python",
   "pygments_lexer": "ipython3",
   "version": "3.9.13"
  }
 },
 "nbformat": 4,
 "nbformat_minor": 4
}