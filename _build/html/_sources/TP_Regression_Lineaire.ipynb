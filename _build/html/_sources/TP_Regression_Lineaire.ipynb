{
 "cells": [
  {
   "cell_type": "markdown",
   "metadata": {},
   "source": [
    "# TP Régression linéaire"
   ]
  },
  {
   "cell_type": "code",
   "execution_count": null,
   "metadata": {},
   "outputs": [],
   "source": [
    "try:\n",
    "    import sklearn, numpy, matplotlib, ipywidgets, IPython \n",
    "except ModuleNotFoundError: \n",
    "    !pip3 install --quiet sklearn numpy matplotlib ipywidgets IPython\n",
    "    import sympy\n",
    "import sklearn, numpy, matplotlib, ipywidgets, IPython\n"
   ]
  },
  {
   "cell_type": "markdown",
   "metadata": {},
   "source": [
    "[Télécharger le fichier](http://vbarra.github.io/ADbook/TP_Regression_Lineaire.ipynb) "
   ]
  },
  {
   "cell_type": "code",
   "execution_count": 7,
   "metadata": {
    "tags": []
   },
   "outputs": [],
   "source": [
    "import numpy as np\n",
    "import matplotlib.pyplot as plt\n",
    "\n",
    "from ipywidgets import interact, interactive, IntSlider, Layout, interact_manual\n",
    "import ipywidgets as widgets\n",
    "from IPython.display import display\n",
    "\n",
    "from sklearn.linear_model import LinearRegression,Lasso,Ridge\n",
    "from sklearn.model_selection import train_test_split\n",
    "from sklearn.preprocessing import PolynomialFeatures\n",
    "from sklearn.pipeline import make_pipeline\n",
    "from sklearn.preprocessing import StandardScaler\n"
   ]
  },
  {
   "cell_type": "markdown",
   "metadata": {},
   "source": [
    "## Régression linéaire : premier exemple\n",
    "On s'intéresse ici à la régression d'une droite sur un nuage de points, bruité par un bruit normal $\\mathcal{N}(m,\\sigma^2)$, dont l'amplitude peut varier"
   ]
  },
  {
   "cell_type": "code",
   "execution_count": 8,
   "metadata": {},
   "outputs": [],
   "source": [
    "nb_points=50\n",
    "# Paramètres de la \"vraie droite\" y=b0+b1.x\n",
    "b0,b1 = 0.4,2.5\n",
    "\n",
    "# Intervalle \n",
    "x1= np.linspace(0,10,10*nb_points)\n",
    "x= np.random.choice(x1,size=nb_points)\n",
    "\n",
    "\n",
    "\n",
    "def F(test_size,amp_bruit,var_bruit,moyenne_bruit):\n",
    "    y=b0+b1*x+amp_bruit*np.random.normal(loc=moyenne_bruit,scale=var_bruit,size=nb_points)\n",
    "    y_true=b0+b1*x\n",
    "\n",
    "\n",
    "    X_train, X_test, y_train, y_test = train_test_split(x,y,test_size=test_size,random_state=42)\n",
    "    X_train=X_train.reshape(-1,1)\n",
    "    X_test=X_test.reshape(-1,1)\n",
    "    xmean = np.mean(X_train)\n",
    "    ymean=np.mean(y_train)    \n",
    "\n",
    "    \n",
    "    lr = LinearRegression()\n",
    "    lr.fit(X_train,y_train) \n",
    "    beta0,beta1=lr.intercept_,lr.coef_[0]\n",
    "\n",
    "    train_pred = np.array(lr.predict(X_train))\n",
    "    test_pred = np.array(lr.predict(X_test))\n",
    "    train_score = lr.score(X_train,y_train)\n",
    "    test_score = lr.score(X_test,y_test)\n",
    "    RMSE_train=np.sqrt(np.mean(np.square(train_pred-y_train)))\n",
    "    RMSE_test=np.sqrt(np.mean(np.square(test_pred-y_test)))\n",
    "    \n",
    "    plt.figure(figsize=(12,6))\n",
    "    plt.title(\"Score Entrainement : {0:3.4f}, Test : {1:3.4f} --  RMSE Entrainement : {2:3.4f}, Test : {3:3.4f}\".format(train_score,test_score,RMSE_train,RMSE_test),fontsize=16)\n",
    "    plt.xlabel(\"x\")\n",
    "    plt.ylabel(\"y\")\n",
    "    plt.plot(X_train,train_pred,'r', label='Régression')\n",
    "    plt.plot(x,y_true,c='black', label='Vraie droite')\n",
    "    \n",
    "    plt.scatter(X_train,y_train,c='b',label='Entrainement')\n",
    "    plt.scatter(X_test,y_test,edgecolors='k',marker='x',c='g',s=100,label='test')\n",
    "    plt.scatter(X_test,test_pred,edgecolors='k',marker='x',c='magenta',s=100,label='prédit')\n",
    "    \n",
    "    plt.text(6, 4, \"Droite : $y = {0:3.4f}+{1:3.4f}x$\".format(b0,b1),fontsize=16)\n",
    "    plt.text(6, 2, \"Régression : $y = {0:3.4f}+{1:3.4f}x$\".format(beta0,beta1),fontsize=16)\n",
    "    plt.text(6, 0, \"$R={:3.4f}$\".format(np.corrcoef(x,y)[0,1]),fontsize=16)\n",
    "\n",
    "    plt.text(6, 6, \"Centre de masse $X=({0:3.3f},{0:3.3f})^T$\".format(xmean,ymean),fontsize=16)\n",
    "\n",
    "    plt.text(xmean,ymean,\"X\",fontsize=20,label='Centre de masse')    \n",
    "\n",
    "\n",
    "    plt.grid(True)\n",
    "    plt.legend(loc='best')\n",
    "    \n",
    "    plt.tight_layout()\n",
    "    plt.savefig('regression.png',dpi=100)"
   ]
  },
  {
   "cell_type": "code",
   "execution_count": 9,
   "metadata": {},
   "outputs": [
    {
     "data": {
      "application/vnd.jupyter.widget-view+json": {
       "model_id": "731aa5d6992544d4ad9264d88b385cb9",
       "version_major": 2,
       "version_minor": 0
      },
      "text/plain": [
       "interactive(children=(RadioButtons(description='Test', options={'10%': 0.1, '30%': 0.3, '50%': 0.5}, value=0.1…"
      ]
     },
     "metadata": {},
     "output_type": "display_data"
    }
   ],
   "source": [
    "m = interactive(F,amp_bruit=(0,5,1),var_bruit=(0,2,0.1),moyenne_bruit=(-3,3,0.5),\n",
    "               test_size=widgets.RadioButtons(options={\"10%\":0.1,\"30%\":0.3,\"50%\":0.5},description=\"Test\"),disabled=False,continuous_update=False)\n",
    "display(m)\n"
   ]
  },
  {
   "cell_type": "markdown",
   "metadata": {},
   "source": [
    "## Linéaire ne veut pas dire droite..."
   ]
  },
  {
   "cell_type": "code",
   "execution_count": 10,
   "metadata": {
    "tags": []
   },
   "outputs": [],
   "source": [
    "nb_points=50\n",
    "x1= np.linspace(-5,5,10*nb_points)\n",
    "x= np.random.choice(x1,size=nb_points)"
   ]
  },
  {
   "cell_type": "code",
   "execution_count": 11,
   "metadata": {},
   "outputs": [],
   "source": [
    "def func_fit(model_type,test_size,degree,amp_bruit,var_bruit,moyenne_bruit):\n",
    "    y=2*x-0.6*x**2+0.2*x**3+18*np.sin(x)\n",
    "    y1=2*x1-0.6*x1**2+0.2*x1**3+18*np.sin(x1)\n",
    "    y= y+amp_bruit*np.random.normal(loc=moyenne_bruit,scale=var_bruit,size=nb_points)\n",
    "    \n",
    "    X_train, X_test, y_train, y_test = train_test_split(x,y,test_size=test_size,random_state=55)\n",
    "    \n",
    "    if (model_type=='Linéaire'):\n",
    "        model = make_pipeline(StandardScaler(),PolynomialFeatures(degree,interaction_only=False),LinearRegression())\n",
    "    if (model_type=='LASSO'):    \n",
    "        model = make_pipeline(StandardScaler(),PolynomialFeatures(degree,interaction_only=False),Lasso())\n",
    "        \n",
    "    if (model_type=='Ridge'):    \n",
    "        model = make_pipeline(StandardScaler(),PolynomialFeatures(degree,interaction_only=False),Ridge())\n",
    "    \n",
    "    X_train=X_train.reshape(-1,1)\n",
    "    X_test=X_test.reshape(-1,1)\n",
    "    \n",
    "    model.fit(X_train,y_train)\n",
    "    \n",
    "    train_pred = np.array(model.predict(X_train))\n",
    "    train_score = model.score(X_train,y_train)\n",
    "\n",
    "    test_pred = np.array(model.predict(X_test))\n",
    "    test_score = model.score(X_test,y_test)\n",
    "    \n",
    "    RMSE_train=np.sqrt(np.mean(np.square(train_pred-y_train)))\n",
    "    RMSE_test=np.sqrt(np.mean(np.square(test_pred-y_test)))\n",
    "       \n",
    "    plt.figure(figsize=(14,6))\n",
    "    plt.title(\"Score Entrainement : {0:3.4f}, Test : {1:3.4f} --  RMSE Entrainement : {2:3.4f}, Test : {3:3.4f}\".format(train_score,test_score,RMSE_train,RMSE_test),fontsize=16)\n",
    "    plt.xlabel(\"x\")\n",
    "    plt.ylabel(\"y\")\n",
    "    plt.scatter(X_train,y_train,c='blue',label='Entraînement')\n",
    "    plt.scatter(X_test,y_test,marker='x',c='g',s=100,label='test')\n",
    "    plt.scatter(X_test,test_pred,marker='x',c='magenta',s=100,label='predit')\n",
    "    plt.plot(x1,y1,c='k',lw=2,label='Vraie courbe')\n",
    "    y2 = model.predict(x1.reshape(-1,1))\n",
    "    plt.plot(x1,y2,c='r',lw=2,label='Courbe prédite')\n",
    "\n",
    "    plt.grid(True)\n",
    "    plt.legend(loc='best')\n",
    "    \n",
    "    plt.tight_layout()\n",
    "       \n",
    "    return (train_score,test_score)    "
   ]
  },
  {
   "cell_type": "code",
   "execution_count": 13,
   "metadata": {},
   "outputs": [
    {
     "data": {
      "application/vnd.jupyter.widget-view+json": {
       "model_id": "f94177f63c224770af4cd3de7ff2069d",
       "version_major": 2,
       "version_minor": 0
      },
      "text/plain": [
       "interactive(children=(RadioButtons(description='Choose Model', layout=Layout(width='250px'), options=('Linéair…"
      ]
     },
     "metadata": {},
     "output_type": "display_data"
    }
   ],
   "source": [
    "m = interactive(func_fit,model_type=widgets.RadioButtons(options=['Linéaire','LASSO', 'Ridge'],description = \"Choose Model\",layout=Layout(width='250px')),\n",
    "                test_size=widgets.RadioButtons(options={\"10%\":0.1,\"30% \":0.3,\"50%\":0.5},description=\"Test\"),\n",
    "               degree=widgets.IntSlider(min=1,max=30,step=1,description= 'Degré',continuous_update=False),amp_bruit=(0,5,1),var_bruit=(0,2,0.1),moyenne_bruit=(-3,3,0.5))\n",
    "display(m)"
   ]
  },
  {
   "cell_type": "code",
   "execution_count": null,
   "metadata": {},
   "outputs": [],
   "source": []
  }
 ],
 "metadata": {
  "kernelspec": {
   "display_name": "Python 3",
   "language": "python",
   "name": "python3"
  },
  "language_info": {
   "codemirror_mode": {
    "name": "ipython",
    "version": 3
   },
   "file_extension": ".py",
   "mimetype": "text/x-python",
   "name": "python",
   "nbconvert_exporter": "python",
   "pygments_lexer": "ipython3",
   "version": "3.9.13"
  }
 },
 "nbformat": 4,
 "nbformat_minor": 4
}
