{
 "cells": [
  {
   "cell_type": "markdown",
   "metadata": {},
   "source": [
    "# Régression logistique"
   ]
  },
  {
   "cell_type": "code",
   "execution_count": null,
   "metadata": {},
   "outputs": [],
   "source": [
    "# n'exécuter qu'une fois\n",
    "!pip3 install sklearn numpy pandas matplotlib ipywidgets IPython --q"
   ]
  },
  {
   "cell_type": "code",
   "execution_count": 8,
   "metadata": {
    "tags": []
   },
   "outputs": [],
   "source": [
    "from ipywidgets import interact, interactive, IntSlider, Layout\n",
    "import ipywidgets as widgets\n",
    "from IPython.display import display\n",
    "\n",
    "import numpy as np\n",
    "import matplotlib.pyplot as plt\n",
    "import pandas as pd\n"
   ]
  },
  {
   "cell_type": "code",
   "execution_count": 9,
   "metadata": {
    "tags": []
   },
   "outputs": [],
   "source": [
    "from sklearn.linear_model import LogisticRegressionCV\n",
    "from sklearn.model_selection import train_test_split"
   ]
  },
  {
   "cell_type": "markdown",
   "metadata": {},
   "source": [
    "## Génération de données"
   ]
  },
  {
   "cell_type": "code",
   "execution_count": 10,
   "metadata": {
    "tags": []
   },
   "outputs": [],
   "source": [
    "def func_log(nb_points,x_min,x_max,noise_magnitude,noise_sd,noise_mean):\n",
    "    x= np.linspace(x_min,x_max,nb_points*5)\n",
    "    x1= np.random.choice(x,size=nb_points)\n",
    "    x2= np.random.choice(x,size=nb_points)\n",
    "    y=1.5*x1-2*x2\n",
    "    yn= y+noise_magnitude*np.random.normal(loc=noise_mean,scale=noise_sd,size=nb_points)\n",
    "    \n",
    "    plt.figure(figsize=(8,5))\n",
    "    c = [i < 0 for i in y]\n",
    "    f, ax = plt.subplots(figsize=(8, 6))\n",
    "    ax.set_xlim(left=x_min*1.2,right=x_max*1.2)\n",
    "    ax.set_ylim(bottom=x_min*1.2,top=x_max*1.2)\n",
    "    ax.scatter(x1,x2,c=c,edgecolors='k',s=80)\n",
    "    plt.grid(True)\n",
    "    plt.tight_layout()\n",
    "    \n",
    "    return (np.array(x),np.array(y),np.array(yn),np.array(x1),np.array(x2))"
   ]
  },
  {
   "cell_type": "markdown",
   "metadata": {},
   "source": [
    "## Affichage interactif"
   ]
  },
  {
   "cell_type": "code",
   "execution_count": 11,
   "metadata": {},
   "outputs": [
    {
     "data": {
      "application/vnd.jupyter.widget-view+json": {
       "model_id": "d355a4f4967f43329d9ce0b186825655",
       "version_major": 2,
       "version_minor": 0
      },
      "text/plain": [
       "interactive(children=(Dropdown(description='nb_points', options={'Low (50 samples)': 50, 'High (200 samples)':…"
      ]
     },
     "metadata": {},
     "output_type": "display_data"
    }
   ],
   "source": [
    "pl=interactive(func_log,nb_points={'Low (50 samples)':50,'High (200 samples)':200},x_min=(-5,0,1), x_max=(0,5,1),\n",
    "              noise_magnitude=(0,5,1),noise_sd=(0.1,1,0.1),noise_mean=(-2,2,0.5))\n",
    "display(pl)"
   ]
  },
  {
   "cell_type": "markdown",
   "metadata": {},
   "source": [
    "## Stockage des données"
   ]
  },
  {
   "cell_type": "code",
   "execution_count": 12,
   "metadata": {},
   "outputs": [
    {
     "data": {
      "text/html": [
       "<div>\n",
       "<style scoped>\n",
       "    .dataframe tbody tr th:only-of-type {\n",
       "        vertical-align: middle;\n",
       "    }\n",
       "\n",
       "    .dataframe tbody tr th {\n",
       "        vertical-align: top;\n",
       "    }\n",
       "\n",
       "    .dataframe thead th {\n",
       "        text-align: right;\n",
       "    }\n",
       "</style>\n",
       "<table border=\"1\" class=\"dataframe\">\n",
       "  <thead>\n",
       "    <tr style=\"text-align: right;\">\n",
       "      <th></th>\n",
       "      <th>X1</th>\n",
       "      <th>X2</th>\n",
       "      <th>out</th>\n",
       "      <th>y</th>\n",
       "    </tr>\n",
       "  </thead>\n",
       "  <tbody>\n",
       "    <tr>\n",
       "      <th>0</th>\n",
       "      <td>-2.036145</td>\n",
       "      <td>0.594378</td>\n",
       "      <td>-3.253053</td>\n",
       "      <td>0</td>\n",
       "    </tr>\n",
       "    <tr>\n",
       "      <th>1</th>\n",
       "      <td>1.939759</td>\n",
       "      <td>0.032129</td>\n",
       "      <td>0.367281</td>\n",
       "      <td>1</td>\n",
       "    </tr>\n",
       "    <tr>\n",
       "      <th>2</th>\n",
       "      <td>-1.092369</td>\n",
       "      <td>-1.855422</td>\n",
       "      <td>2.353306</td>\n",
       "      <td>1</td>\n",
       "    </tr>\n",
       "    <tr>\n",
       "      <th>3</th>\n",
       "      <td>-1.192771</td>\n",
       "      <td>0.855422</td>\n",
       "      <td>-2.379083</td>\n",
       "      <td>0</td>\n",
       "    </tr>\n",
       "    <tr>\n",
       "      <th>4</th>\n",
       "      <td>-0.128514</td>\n",
       "      <td>-0.028112</td>\n",
       "      <td>-0.370035</td>\n",
       "      <td>0</td>\n",
       "    </tr>\n",
       "  </tbody>\n",
       "</table>\n",
       "</div>"
      ],
      "text/plain": [
       "         X1        X2       out  y\n",
       "0 -2.036145  0.594378 -3.253053  0\n",
       "1  1.939759  0.032129  0.367281  1\n",
       "2 -1.092369 -1.855422  2.353306  1\n",
       "3 -1.192771  0.855422 -2.379083  0\n",
       "4 -0.128514 -0.028112 -0.370035  0"
      ]
     },
     "execution_count": 12,
     "metadata": {},
     "output_type": "execute_result"
    }
   ],
   "source": [
    "xl,yl,ynl,x1l,x2l = pl.result\n",
    "dic = {'X1':x1l,'X2':x2l,'out':ynl}\n",
    "df = pd.DataFrame(data=dic)\n",
    "\n",
    "def boolean (x):\n",
    "    return int(x>0)\n",
    "df['y']=df['out'].apply(boolean)\n",
    "df.head()"
   ]
  },
  {
   "cell_type": "markdown",
   "metadata": {},
   "source": [
    "## Régression logistique"
   ]
  },
  {
   "cell_type": "code",
   "execution_count": 13,
   "metadata": {},
   "outputs": [],
   "source": [
    "def log_fit(C,test_size,penalty):\n",
    "    \n",
    "    X_train, X_test, y_train, y_test = train_test_split(df[['X1','X2']],df['y'],test_size=test_size,random_state=101)\n",
    "    \n",
    "    df_test=pd.DataFrame(X_test,columns=['X1','X2'])\n",
    "    df_test['y']=y_test\n",
    "    \n",
    "    df_train=pd.DataFrame(X_train,columns=['X1','X2'])\n",
    "    df_train['y']=y_train\n",
    "    \n",
    "    if (penalty=='L1 norm'):\n",
    "        logm = LogisticRegressionCV(Cs=[np.power(10,-C)],penalty='l1',solver='saga')\n",
    "    if (penalty=='L2 norm'):\n",
    "        logm = LogisticRegressionCV(Cs=[np.power(10,-C)],penalty='l2',solver='lbfgs')\n",
    "    \n",
    "    logm.fit(X_train,y_train)\n",
    "    \n",
    "    train_score = logm.score(X_train,y_train)\n",
    "    test_score = logm.score(X_test,y_test)\n",
    "    \n",
    "    xx, yy = np.mgrid[-5:5:.01, -5:5:.01]\n",
    "    grid = np.c_[xx.ravel(), yy.ravel()]\n",
    "    probs = logm.predict_proba(grid)[:, 1].reshape(xx.shape)\n",
    "        \n",
    "    c_test = [i for i in df_test['y']]\n",
    "    c_train = [i for i in df_train['y']]\n",
    "    \n",
    "    f, ax = plt.subplots(nrows=1,ncols=2,figsize=(15,7))\n",
    "    contour = ax[0].contourf(xx, yy, probs, 25, cmap=\"RdBu\",vmin=0, vmax=1)\n",
    "    ax1_c = f.colorbar(contour,ax=ax[0])\n",
    "    ax1_c.set_label(\"$Prob\\ (y = 1)$\",fontsize=15)\n",
    "    ax1_c.set_ticks([0, .25, .5, .75, 1])\n",
    "    ax[0].set_xlabel(\"$X_1$\",fontsize=15)\n",
    "    ax[0].set_ylabel(\"$X_2$\",fontsize=15)\n",
    "    ax[0].contour(xx, yy, probs, levels=[.5], cmap=\"Greys\", vmin=0, vmax=0.6)\n",
    "    \n",
    "    ax[0].scatter(df_test['X1'],df_test['X2'],c=c_test,edgecolors='k',s=100)\n",
    "    ax[0].set_title(\"\\nTest score: %.3f\\n\"%(test_score),fontsize=20)\n",
    "    \n",
    "    contour = ax[1].contourf(xx, yy, probs, 25, cmap=\"RdBu\",vmin=0, vmax=1)\n",
    "\n",
    "    ax[1].set_xlabel(\"$X_1$\",fontsize=15)\n",
    "    ax[1].set_ylabel(\"$X_2$\",fontsize=15)\n",
    "    ax[1].contour(xx, yy, probs, levels=[.5], cmap=\"Greys\", vmin=0, vmax=0.6)\n",
    "    \n",
    "    ax[1].scatter(df_train['X1'],df_train['X2'],c=c_train,edgecolors='k',s=100)\n",
    "    ax[1].set_title(\"\\nTraining score: %.3f\\n\"%(train_score),fontsize=20)\n",
    "        \n",
    "    plt.grid(True)\n",
    "    plt.tight_layout()\n",
    "    plt.show()\n",
    "      \n",
    "    return (train_score,test_score)    "
   ]
  },
  {
   "cell_type": "code",
   "execution_count": 14,
   "metadata": {},
   "outputs": [
    {
     "data": {
      "application/vnd.jupyter.widget-view+json": {
       "model_id": "c0619f7e75d940468b3c314e65baa2f0",
       "version_major": 2,
       "version_minor": 0
      },
      "text/plain": [
       "interactive(children=(FloatSlider(value=0.0, continuous_update=False, description='Regularization ($10^{-C}$),…"
      ]
     },
     "metadata": {},
     "output_type": "display_data"
    }
   ],
   "source": [
    "from ipywidgets import HBox, Label, FloatSlider\n",
    "from sklearn.model_selection import train_test_split\n",
    "\n",
    "style = {'description_width': 'initial'}\n",
    "\n",
    "\n",
    "logp=interactive(log_fit,C=FloatSlider(value=0,min=0,max=2,step=0.1,\n",
    "                                       description='Regularization ($10^{-C}$), $C$', style=style,continuous_update=False),\n",
    "                 test_size=FloatSlider(value=0.1,min=0.1,max=0.5,step=0.1,\n",
    "                                       description = 'Test fraction ($X_{test}$)', style=style),\n",
    "                penalty=widgets.RadioButtons(options=[\"L1 norm\",\"L2 norm\"], description = 'Penalty norm'))\n",
    "\n",
    "output = logp.children[-1]\n",
    "output.layout.height = '500px'\n",
    "output.layout.width = '1000px'\n",
    "\n",
    "display(logp)"
   ]
  },
  {
   "cell_type": "code",
   "execution_count": null,
   "metadata": {
    "collapsed": true,
    "jupyter": {
     "outputs_hidden": true
    }
   },
   "outputs": [],
   "source": []
  }
 ],
 "metadata": {
  "kernelspec": {
   "display_name": "Python 3",
   "language": "python",
   "name": "python3"
  },
  "language_info": {
   "codemirror_mode": {
    "name": "ipython",
    "version": 3
   },
   "file_extension": ".py",
   "mimetype": "text/x-python",
   "name": "python",
   "nbconvert_exporter": "python",
   "pygments_lexer": "ipython3",
   "version": "3.9.13"
  }
 },
 "nbformat": 4,
 "nbformat_minor": 4
}
