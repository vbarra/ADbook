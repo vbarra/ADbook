{
 "cells": [
  {
   "cell_type": "markdown",
   "id": "ae54c355",
   "metadata": {},
   "source": [
    "# Statistique exploratoire\n",
    "## Analyse en composantes principales\n",
    "\n",
    "## Analyse Factorielle des correspondances\n",
    "\n",
    "## Analyse des correspondances multiples"
   ]
  }
 ],
 "metadata": {
  "jupytext": {
   "formats": "md:myst",
   "text_representation": {
    "extension": ".md",
    "format_name": "myst"
   }
  },
  "kernelspec": {
   "display_name": "Python 3",
   "language": "python",
   "name": "python3"
  },
  "language_info": {
   "codemirror_mode": {
    "name": "ipython",
    "version": 3
   },
   "file_extension": ".py",
   "mimetype": "text/x-python",
   "name": "python",
   "nbconvert_exporter": "python",
   "pygments_lexer": "ipython3",
   "version": "3.9.13"
  },
  "source_map": [
   11
  ]
 },
 "nbformat": 4,
 "nbformat_minor": 5
}