{
 "cells": [
  {
   "cell_type": "markdown",
   "id": "ace2586c",
   "metadata": {},
   "source": [
    "# Exercices\n",
    "\n",
    "## Exercice 1\n",
    "\n",
    "Soient $n\\leq 365$ personnes. On suppose qu’une année dure 365 jours. On suppose aussi que toutes les dates de naissance sont équiprobables.\n",
    "1. Exprimer en fonction de $n$ la probabilité $P$ qu’un groupe de $n$ personnes choisies au hasard dans la rue soit tel que toutes les dates de naissance soient différentes (jour et mois seulement).\n",
    "2. Ecrire un code Python représentant $P$ pour $n$ variant de 1 à 40.\n",
    "3. Combien faut-il de personnes au minimum pour que $P\\leq 0.5$?\n",
    "4. Combien faut-il de personnes au minimum pour que $P\\leq 0.2$ ?\n",
    "5. Si $n$=50, quelle est la probabilité que deux au moins de ces personnes aient la même date anniversaire ?\n",
    "\n",
    "\n",
    "```{admonition} Solution\n",
    ":class: dropdown\n",
    "toto\n",
    "```"
   ]
  }
 ],
 "metadata": {
  "jupytext": {
   "formats": "md:myst",
   "text_representation": {
    "extension": ".md",
    "format_name": "myst"
   }
  },
  "kernelspec": {
   "display_name": "Python 3",
   "language": "python",
   "name": "python3"
  },
  "language_info": {
   "codemirror_mode": {
    "name": "ipython",
    "version": 3
   },
   "file_extension": ".py",
   "mimetype": "text/x-python",
   "name": "python",
   "nbconvert_exporter": "python",
   "pygments_lexer": "ipython3",
   "version": "3.9.13"
  },
  "source_map": [
   11
  ]
 },
 "nbformat": 4,
 "nbformat_minor": 5
}