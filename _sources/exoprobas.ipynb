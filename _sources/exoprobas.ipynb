{
 "cells": [
  {
   "cell_type": "markdown",
   "id": "4a2cbcac",
   "metadata": {},
   "source": [
    "# Exercices\n",
    "\n",
    "## Exercice 1\n",
    "\n",
    "Soient $n\\leq 365$ personnes. On suppose qu’une année dure 365 jours. On suppose aussi que toutes les dates de naissance sont équiprobables.\n",
    "1. Exprimer en fonction de $n$ la probabilité $P$ qu’un groupe de $n$ personnes choisies au hasard dans la rue soit tel que toutes les dates de naissance soient différentes (jour et mois seulement).\n",
    "2. Ecrire un code Python représentant $P$ pour $n$ variant de 1 à 40.\n",
    "3. Combien faut-il de personnes au minimum pour que $P\\leq 0.5$?\n",
    "4. Combien faut-il de personnes au minimum pour que $P\\leq 0.2$ ?\n",
    "5. Si $n$=50, quelle est la probabilité que deux au moins de ces personnes aient la même date anniversaire ?\n",
    "\n",
    "\n",
    "````{admonition} Solution\n",
    ":class: dropdown\n",
    "1. $P\\approx 0.9973$\n",
    "3. $n=23$\n",
    "4. $n=35$\n",
    "5. la probabilité est approximativement égale à 0.97\n",
    "````\n",
    "\n",
    "Le code Python de la question 2 peut s'écrire"
   ]
  },
  {
   "cell_type": "code",
   "execution_count": 1,
   "id": "fdb5a451",
   "metadata": {},
   "outputs": [
    {
     "ename": "NameError",
     "evalue": "name 'Q' is not defined",
     "output_type": "error",
     "traceback": [
      "\u001b[0;31m---------------------------------------------------------------------------\u001b[0m",
      "\u001b[0;31mNameError\u001b[0m                                 Traceback (most recent call last)",
      "Input \u001b[0;32mIn [1]\u001b[0m, in \u001b[0;36m<module>\u001b[0;34m\u001b[0m\n\u001b[1;32m     20\u001b[0m plt\u001b[38;5;241m.\u001b[39mlegend()\n\u001b[1;32m     21\u001b[0m plt\u001b[38;5;241m.\u001b[39msubplot(\u001b[38;5;241m212\u001b[39m)\n\u001b[0;32m---> 22\u001b[0m plt\u001b[38;5;241m.\u001b[39mplot(n,\u001b[43mQ\u001b[49m,color\u001b[38;5;241m=\u001b[39m\u001b[38;5;124m'\u001b[39m\u001b[38;5;124mred\u001b[39m\u001b[38;5;124m'\u001b[39m,label\u001b[38;5;241m=\u001b[39m\u001b[38;5;124m'\u001b[39m\u001b[38;5;124mproba dates differentes\u001b[39m\u001b[38;5;124m'\u001b[39m)\n\u001b[1;32m     23\u001b[0m plt\u001b[38;5;241m.\u001b[39mplot(n,P,\u001b[38;5;124m'\u001b[39m\u001b[38;5;124mk+\u001b[39m\u001b[38;5;124m'\u001b[39m)\n\u001b[1;32m     24\u001b[0m plt\u001b[38;5;241m.\u001b[39mxlim(\u001b[38;5;241m15\u001b[39m,\u001b[38;5;241m25\u001b[39m)\n",
      "\u001b[0;31mNameError\u001b[0m: name 'Q' is not defined"
     ]
    },
    {
     "data": {
      "image/png": "[encoded data removed]",
      "text/plain": [
       "<Figure size 432x288 with 2 Axes>"
      ]
     },
     "metadata": {
      "filenames": {
       "image/png": "/Users/vibarra/Documents/Cours/FISA/envbook/ADbook/_build/jupyter_execute/exoprobas_1_1.png"
      },
      "needs_background": "light"
     },
     "output_type": "display_data"
    }
   ],
   "source": [
    "import matplotlib.pyplot as plt \n",
    "import math\n",
    "N=41 \n",
    "n=[]\n",
    "P=[]\n",
    "t=1\n",
    "\n",
    "for j in range(1,N):\n",
    "    n.append(j)\n",
    "    t=t*(1-(j-1)/365) \n",
    "    P.append(t*100) \n",
    "plt.figure()\n",
    "plt.subplot(211)\n",
    "plt.plot(n,P,color='red',label='proba dates differentes')\n",
    "plt.plot(n,P,'k+')\n",
    "plt.xlabel('n')\n",
    "plt.ylabel('P')\n",
    "plt.title('probleme des anniversaires')\n",
    "plt.grid(True)\n",
    "plt.legend()\n",
    "plt.subplot(212)\n",
    "plt.plot(n,Q,color='red',label='proba dates differentes')\n",
    "plt.plot(n,P,'k+')\n",
    "plt.xlim(15,25)\n",
    "plt.ylim(40,70)\n",
    "plt.ylabel('P') \n",
    "plt.grid(True) \n",
    "plt.legend()\n",
    "plt.show()"
   ]
  }
 ],
 "metadata": {
  "jupytext": {
   "formats": "md:myst",
   "text_representation": {
    "extension": ".md",
    "format_name": "myst"
   }
  },
  "kernelspec": {
   "display_name": "Python 3",
   "language": "python",
   "name": "python3"
  },
  "language_info": {
   "codemirror_mode": {
    "name": "ipython",
    "version": 3
   },
   "file_extension": ".py",
   "mimetype": "text/x-python",
   "name": "python",
   "nbconvert_exporter": "python",
   "pygments_lexer": "ipython3",
   "version": "3.9.13"
  },
  "source_map": [
   11,
   34
  ]
 },
 "nbformat": 4,
 "nbformat_minor": 5
}